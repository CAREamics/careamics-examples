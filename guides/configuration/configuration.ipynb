{
 "cells": [
  {
   "cell_type": "markdown",
   "metadata": {},
   "source": [
    "# CAREamics Configuration\n",
    "\n",
    "The following examples illustrate how to create, modify, export and read CAREamics configuration."
   ]
  },
  {
   "cell_type": "code",
   "execution_count": null,
   "metadata": {},
   "outputs": [],
   "source": [
    "from careamics import Configuration, load_configuration, save_configuration"
   ]
  },
  {
   "cell_type": "markdown",
   "metadata": {},
   "source": [
    "## Create a configuration from a dictionnary\n",
    "\n",
    "Configurations have a minimum number of parameters, that need to be defined. The following example shows how to create a configuration from a dictionnary.\n",
    "\n",
    "For a list of all parameters, see the [configuration documentation]()."
   ]
  },
  {
   "cell_type": "code",
   "execution_count": null,
   "metadata": {},
   "outputs": [],
   "source": [
    "# create dictionnary\n",
    "config_dict = {\n",
    "    \"experiment_name\": \"ConfigTest\",\n",
    "    \"working_directory\": \".\",\n",
    "    \"algorithm\": {\n",
    "        \"loss\": \"n2v\",\n",
    "        \"model\": \"UNet\",\n",
    "        \"is_3D\": False,\n",
    "    },\n",
    "    \"training\": {\n",
    "        \"num_epochs\": 42,\n",
    "        \"batch_size\": 16,\n",
    "        \"patch_size\": [64, 64],\n",
    "        \"optimizer\": {\n",
    "            \"name\": \"Adam\",\n",
    "        },\n",
    "        \"lr_scheduler\": {\"name\": \"ReduceLROnPlateau\"},\n",
    "        \"augmentation\": True,\n",
    "    },\n",
    "    \"data\": {\n",
    "        \"in_memory\": True,\n",
    "        \"data_format\": \"tif\",\n",
    "        \"axes\": \"SYX\",\n",
    "    },\n",
    "}\n",
    "\n",
    "# create configuration object\n",
    "config = Configuration(**config_dict)"
   ]
  },
  {
   "cell_type": "markdown",
   "metadata": {},
   "source": [
    "The configuration can be printed to check its content."
   ]
  },
  {
   "cell_type": "code",
   "execution_count": null,
   "metadata": {},
   "outputs": [],
   "source": [
    "# print configuration\n",
    "print(config)"
   ]
  },
  {
   "cell_type": "markdown",
   "metadata": {},
   "source": [
    "## Modify configuration\n",
    "\n",
    "A configuration object can be modified, as long as you respect the type of the parameters."
   ]
  },
  {
   "cell_type": "code",
   "execution_count": null,
   "metadata": {},
   "outputs": [],
   "source": [
    "# modify the number of epochs\n",
    "config.training.num_epochs = 100\n",
    "print(config.training.num_epochs)"
   ]
  },
  {
   "cell_type": "markdown",
   "metadata": {},
   "source": [
    "## Save configuration\n",
    "\n",
    "In order to save a configuration to the disk, we provide a convenience function `save_configuration`."
   ]
  },
  {
   "cell_type": "code",
   "execution_count": null,
   "metadata": {},
   "outputs": [],
   "source": [
    "# save configuration\n",
    "save_configuration(config, \"config.yml\")"
   ]
  },
  {
   "cell_type": "markdown",
   "metadata": {},
   "source": [
    "## Load configuration\n",
    "\n",
    "Similarly, you can load a configuration from a `.yml` file."
   ]
  },
  {
   "cell_type": "code",
   "execution_count": null,
   "metadata": {},
   "outputs": [],
   "source": [
    "# load configuration\n",
    "new_config = load_configuration(\"config.yml\")\n",
    "print(new_config)"
   ]
  },
  {
   "cell_type": "code",
   "execution_count": null,
   "metadata": {},
   "outputs": [],
   "source": [
    "# check if both configurations are equivalent\n",
    "config == new_config"
   ]
  }
 ],
 "metadata": {
  "kernelspec": {
   "display_name": "careamics",
   "language": "python",
   "name": "python3"
  },
  "language_info": {
   "codemirror_mode": {
    "name": "ipython",
    "version": 3
   },
   "file_extension": ".py",
   "mimetype": "text/x-python",
   "name": "python",
   "nbconvert_exporter": "python",
   "pygments_lexer": "ipython3",
   "version": "3.8.17"
  }
 },
 "nbformat": 4,
 "nbformat_minor": 2
}
