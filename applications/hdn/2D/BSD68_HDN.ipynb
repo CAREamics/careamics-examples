{
 "cells": [
  {
   "cell_type": "markdown",
   "metadata": {},
   "source": [
    "The BSD68 dataset was adapted from K. Zhang et al (TIP, 2017) and is composed of natural\n",
    "images. The noise was artificially added, allowing for quantitative comparisons with the\n",
    "ground truth, one of the benchmark used in many denoising publications. Here, we check \n",
    "the performances of Noise2Void."
   ]
  },
  {
   "cell_type": "code",
   "execution_count": null,
   "metadata": {},
   "outputs": [],
   "source": [
    "# Imports necessary to execute the code\n",
    "from pathlib import Path\n",
    "\n",
    "import matplotlib.pyplot as plt\n",
    "import numpy as np\n",
    "import tifffile\n",
    "from careamics import CAREamist\n",
    "from careamics.config import create_hdn_configuration\n",
    "from careamics.utils.metrics import scale_invariant_psnr\n",
    "from careamics_portfolio import PortfolioManager\n",
    "from PIL import Image"
   ]
  },
  {
   "attachments": {},
   "cell_type": "markdown",
   "metadata": {},
   "source": [
    "## Import the dataset\n",
    "\n",
    "The dataset can be directly downloaded using the `careamics-portfolio` package, which\n",
    "uses `pooch` to download the data."
   ]
  },
  {
   "cell_type": "code",
   "execution_count": null,
   "metadata": {
    "tags": [
     "remove_output"
    ]
   },
   "outputs": [],
   "source": [
    "# instantiate data portfolio manage\n",
    "portfolio = PortfolioManager()\n",
    "\n",
    "# and download the data\n",
    "root_path = Path(\"./data\")\n",
    "files = portfolio.denoising.N2V_BSD68.download(root_path)\n",
    "\n",
    "# create paths for the data\n",
    "data_path = Path(root_path / \"denoising-N2V_BSD68.unzip/BSD68_reproducibility_data\")\n",
    "train_path = data_path / \"train\"\n",
    "val_path = data_path / \"val\"\n",
    "test_path = data_path / \"test\" / \"images\"\n",
    "gt_path = data_path / \"test\" / \"gt\""
   ]
  },
  {
   "attachments": {},
   "cell_type": "markdown",
   "metadata": {},
   "source": [
    "## Visualize data"
   ]
  },
  {
   "cell_type": "code",
   "execution_count": null,
   "metadata": {},
   "outputs": [],
   "source": [
    "# load training and validation image and show them side by side\n",
    "single_train_image = tifffile.imread(next(iter(train_path.rglob(\"*.tiff\"))))[0]\n",
    "single_val_image = tifffile.imread(next(iter(val_path.rglob(\"*.tiff\"))))[0]\n",
    "\n",
    "fig, ax = plt.subplots(1, 2, figsize=(10, 5))\n",
    "ax[0].imshow(single_train_image, cmap=\"gray\")\n",
    "ax[0].set_title(\"Training Image\")\n",
    "ax[1].imshow(single_val_image, cmap=\"gray\")\n",
    "ax[1].set_title(\"Validation Image\")"
   ]
  },
  {
   "attachments": {},
   "cell_type": "markdown",
   "metadata": {},
   "source": [
    "## Train with CAREamics\n",
    "\n",
    "The easiest way to use CAREamics is to create a configuration and a `CAREamist`. \n",
    "\n",
    "### Create configuration\n",
    "\n",
    "The configuration can be built from scratch, giving the user full control over the various\n",
    "parameters available in CAREamics. However, a straightforward way to create a configuration\n",
    "for a particular algorithm is to use one of the convenience functions."
   ]
  },
  {
   "cell_type": "code",
   "execution_count": null,
   "metadata": {},
   "outputs": [],
   "source": [
    "config = create_hdn_configuration(\n",
    "    experiment_name=\"bsd68_hdn\",\n",
    "    data_type=\"tiff\",\n",
    "    axes=\"SYX\",\n",
    "    z_dims=[32] * 4,\n",
    "    patch_size=(128, 128),\n",
    "    batch_size=64,\n",
    "    num_epochs=1,\n",
    "    predict_logvar=\"pixelwise\",\n",
    "    train_dataloader_params={\"num_workers\": 0},\n",
    "    val_dataloader_params={\"num_workers\": 0},\n",
    "    logger=None\n",
    ")\n",
    "\n",
    "print(config)"
   ]
  },
  {
   "cell_type": "code",
   "execution_count": null,
   "metadata": {},
   "outputs": [],
   "source": [
    "config.algorithm_config.loss.reconstruction_weight = 1-0.15\n",
    "config.algorithm_config.loss.kl_weight = 0.15"
   ]
  },
  {
   "cell_type": "code",
   "execution_count": null,
   "metadata": {},
   "outputs": [],
   "source": [
    "config.algorithm_config.lr_scheduler.parameters = {\"factor\": 0.5, \"patience\": 10}\n",
    "config.algorithm_config.optimizer = {\"name\": \"Adamax\", \"parameters\": {\"lr\": 0.0003}}"
   ]
  },
  {
   "cell_type": "code",
   "execution_count": null,
   "metadata": {},
   "outputs": [],
   "source": [
    "config.algorithm_config.optimizer\n"
   ]
  },
  {
   "cell_type": "code",
   "execution_count": null,
   "metadata": {},
   "outputs": [],
   "source": [
    "config.algorithm_config.lr_scheduler"
   ]
  },
  {
   "attachments": {},
   "cell_type": "markdown",
   "metadata": {},
   "source": [
    "### Train\n",
    "\n",
    "A `CAREamist` can be created using a configuration alone, and then be trained by using\n",
    "the data already loaded in memory."
   ]
  },
  {
   "cell_type": "code",
   "execution_count": null,
   "metadata": {
    "tags": [
     "remove_output"
    ]
   },
   "outputs": [],
   "source": [
    "# instantiate a CAREamist\n",
    "careamist = CAREamist(source=config)\n",
    "\n",
    "# train\n",
    "careamist.train(\n",
    "    train_source=train_path,\n",
    "    val_source=val_path,\n",
    ")"
   ]
  },
  {
   "attachments": {},
   "cell_type": "markdown",
   "metadata": {},
   "source": [
    "## Predict with CAREamics\n",
    "\n",
    "Prediction is done with the same `CAREamist` used for training."
   ]
  },
  {
   "cell_type": "code",
   "execution_count": null,
   "metadata": {},
   "outputs": [],
   "source": [
    "import tifffile\n",
    "\n",
    "x_test = [tifffile.imread(f) for f in test_path.rglob(\"*.tiff\")]"
   ]
  },
  {
   "cell_type": "code",
   "execution_count": 12,
   "metadata": {
    "tags": [
     "remove_output"
    ]
   },
   "outputs": [],
   "source": [
    "prediction = careamist.predict(\n",
    "    source=test_path,\n",
    "    data_type=\"tiff\",\n",
    "    axes=\"YX\",\n",
    "    tile_size=(128, 128),\n",
    "    tile_overlap=(64, 64),\n",
    "    mmse_count = 10,\n",
    "    batch_size=1,\n",
    "    dataloader_params={\"num_workers\": 0},\n",
    ")"
   ]
  },
  {
   "attachments": {},
   "cell_type": "markdown",
   "metadata": {},
   "source": [
    "### Visualize the prediction"
   ]
  },
  {
   "cell_type": "code",
   "execution_count": null,
   "metadata": {},
   "outputs": [],
   "source": [
    "plt.imshow(prediction[0].squeeze(), cmap=\"gray\")\n"
   ]
  },
  {
   "cell_type": "code",
   "execution_count": null,
   "metadata": {},
   "outputs": [],
   "source": [
    "# Show two images\n",
    "noises = [tifffile.imread(f) for f in sorted(test_path.glob(\"*.tiff\"))]\n",
    "gts = [tifffile.imread(f) for f in sorted(gt_path.glob(\"*.tiff\"))]\n",
    "\n",
    "# images to show\n",
    "images = np.random.choice(range(len(noises)), 3)\n",
    "\n",
    "fig, ax = plt.subplots(3, 3, figsize=(15, 15))\n",
    "fig.tight_layout()\n",
    "\n",
    "for i in range(3):\n",
    "    pred_image = prediction[images[i]].squeeze()\n",
    "    psnr_noisy = scale_invariant_psnr(gts[images[i]], noises[images[i]])\n",
    "    psnr_result = scale_invariant_psnr(gts[images[i]], pred_image)\n",
    "\n",
    "    ax[i, 0].imshow(noises[images[i]], cmap=\"gray\")\n",
    "    ax[i, 0].title.set_text(f\"Noisy\\nPSNR: {psnr_noisy:.2f}\")\n",
    "\n",
    "    ax[i, 1].imshow(pred_image, cmap=\"gray\")\n",
    "    ax[i, 1].title.set_text(f\"Prediction\\nPSNR: {psnr_result:.2f}\")\n",
    "\n",
    "    ax[i, 2].imshow(gts[images[i]], cmap=\"gray\")\n",
    "    ax[i, 2].title.set_text(\"Ground-truth\")"
   ]
  },
  {
   "cell_type": "markdown",
   "metadata": {},
   "source": [
    "### Compute metrics"
   ]
  },
  {
   "cell_type": "code",
   "execution_count": null,
   "metadata": {},
   "outputs": [],
   "source": [
    "psnrs = np.zeros((len(prediction), 1))\n",
    "\n",
    "for i, (pred, gt) in enumerate(zip(prediction, gts)):\n",
    "    psnrs[i] = scale_invariant_psnr(gt, pred.squeeze())\n",
    "\n",
    "print(f\"PSNR: {psnrs.mean():.2f} +/- {psnrs.std():.2f}\")\n",
    "print(\"Reported PSNR: 27.71\")"
   ]
  },
  {
   "cell_type": "markdown",
   "metadata": {},
   "source": [
    "## Create cover"
   ]
  },
  {
   "cell_type": "code",
   "execution_count": null,
   "metadata": {},
   "outputs": [],
   "source": [
    "# create a cover image\n",
    "im_idx = 3\n",
    "cv_image_noisy = noises[im_idx]\n",
    "cv_image_pred = prediction[im_idx].squeeze()\n",
    "\n",
    "# create image\n",
    "cover = np.zeros((256, 256))\n",
    "(height, width) = cv_image_noisy.shape\n",
    "assert height > 256\n",
    "assert width > 256\n",
    "\n",
    "# normalize train and prediction\n",
    "norm_noise = (cv_image_noisy - cv_image_noisy.min()) / (\n",
    "    cv_image_noisy.max() - cv_image_noisy.min()\n",
    ")\n",
    "norm_pred = (cv_image_pred - cv_image_pred.min()) / (\n",
    "    cv_image_pred.max() - cv_image_pred.min()\n",
    ")\n",
    "\n",
    "# fill in halves\n",
    "cover[:, : 256 // 2] = norm_noise[\n",
    "    height // 2 - 256 // 2 : height // 2 + 256 // 2, width // 2 - 256 // 2 : width // 2\n",
    "]\n",
    "cover[:, 256 // 2 :] = norm_pred[\n",
    "    height // 2 - 256 // 2 : height // 2 + 256 // 2, width // 2 : width // 2 + 256 // 2\n",
    "]\n",
    "\n",
    "# plot the single image\n",
    "plt.imshow(cover, cmap=\"gray\")\n",
    "\n",
    "# save the image\n",
    "im = Image.fromarray(cover * 255)\n",
    "im = im.convert(\"L\")\n",
    "im.save(\"BSD68_Noise2Void.jpeg\")"
   ]
  },
  {
   "cell_type": "code",
   "execution_count": null,
   "metadata": {},
   "outputs": [],
   "source": [
    "# Export the model\n",
    "careamist.export_to_bmz(\n",
    "    path_to_archive=\"bsd68_n2v_model.zip\",\n",
    "    friendly_model_name=\"BSD68_N2V\",\n",
    "    input_array=noises[im_idx][np.newaxis, ..., :256, :256],\n",
    "    authors=[{\"name\": \"CAREamics authors\", \"affiliation\": \"Human Technopole\"}],\n",
    ")"
   ]
  },
  {
   "cell_type": "code",
   "execution_count": null,
   "metadata": {},
   "outputs": [],
   "source": []
  }
 ],
 "metadata": {
  "kernelspec": {
   "display_name": "Python 3 (ipykernel)",
   "language": "python",
   "name": "python3"
  },
  "language_info": {
   "codemirror_mode": {
    "name": "ipython",
    "version": 3
   },
   "file_extension": ".py",
   "mimetype": "text/x-python",
   "name": "python",
   "nbconvert_exporter": "python",
   "pygments_lexer": "ipython3",
   "version": "3.10.14"
  },
  "vscode": {
   "interpreter": {
    "hash": "0d2a5a3ab9ff26e8b66efec3883fa5121030bb852a7a4271db665831444e4e91"
   }
  }
 },
 "nbformat": 4,
 "nbformat_minor": 4
}
