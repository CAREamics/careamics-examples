{
 "cells": [
  {
   "cell_type": "markdown",
   "metadata": {},
   "source": [
    "# N2V2\n",
    "\n",
    "## Overview \n",
    "\n",
    "[N2V2](#references) [1] is a self-supervised denoising method based on [Noise2Void](../../n2v/Noise2Void) [2,3]. \n",
    "The method was developped to remove the checkerboard artefacts sometimes observed with\n",
    "Noise2Void.\n",
    "\n",
    "It retains the same training scheme (i.e. training on noisy images by randomly masking pixels), and the\n",
    "only differences are at the level of the architecture and the masking procedure:\n",
    "\n",
    "1. N2V2 remove the first skip connection and introduces max blurpool layers in the UNet model [4].\n",
    "2. The N2V2 masking scheme uses the median of each patch as replacement value, rather than a randomly chosen neighboring value."
   ]
  },
  {
   "cell_type": "code",
   "execution_count": 40,
   "metadata": {
    "tags": [
     "hide_code"
    ]
   },
   "outputs": [],
   "source": [
    "import matplotlib.pyplot as plt\n",
    "import numpy as np\n",
    "from careamics.models.layers import MaxBlurPool\n",
    "from careamics.transforms.n2v_manipulate import N2VManipulate\n",
    "from careamics_portfolio import PortfolioManager\n",
    "from torch import Tensor\n",
    "from torch.nn import MaxPool2d\n",
    "\n",
    "# download file\n",
    "portfolio = PortfolioManager()\n",
    "files = portfolio.denoiseg.MouseNuclei_n0.download()\n",
    "files.sort()\n",
    "\n",
    "# load data\n",
    "test_data = np.load(files[0])"
   ]
  },
  {
   "cell_type": "markdown",
   "metadata": {},
   "source": [
    "## Checkerboard artefacts\n",
    "\n",
    "Checkerboard artefacts [1] sometimes occur with Noise2Void. This effect is most prominent in\n",
    "the presence of salt and pepper noise or hot pixels in sCMOS cameras. They appear as little\n",
    "crosses, as illustrated in the figure below.\n",
    "\n",
    "<p align=\"center\">\n",
    "  <img src=\"https://raw.githubusercontent.com/CAREamics/careamics-examples/main/algorithms/n2v2/n2v_prediction_checkerboard.png\" width=\"700\"/>\n",
    "</p>\n",
    "\n",
    "*Fig 1.: Checkerboard artefacts. The figure shows a noisy image crop (left), a noisy\n",
    "close-up (center) and the corresponding Noise2Void prediction (right). While the denoising was effective,\n",
    "a distinctive checkerboard pattern appears nonetheless in the Noise2Void prediction. CC-BY.* \n",
    "\n"
   ]
  },
  {
   "cell_type": "markdown",
   "metadata": {},
   "source": [
    "## Noise2Void vs N2V2\n",
    "\n",
    "### Changes to the architecture\n",
    "\n",
    "The model architecture used in Noise2Void and its siblings (N2V2, structN2V, P(P)N2V etc.) is a UNet model [4],\n",
    "a fully convolutional architecture.  Its main parts are an encoder, which downsamples and compresses the information \n",
    "into a bottleneck, and a decoder, which upsamples the information back to the original image size (see figure 2).\n",
    "\n",
    "In order to compress the information, the UNet architecture can perform multiple downsampling operations, defining\n",
    "multiple levels of spatial resolution. For each downsampling operation in the encoder, there is a corresponding upsampling\n",
    "operation in the decoder.\n",
    "\n",
    "One of the trick of the UNet architecture is to use skip connections between the encoder and the decoder. These skip connections\n",
    "allow the decoder to access the information from the encoder at the same spatial resolution. This is often useful to recover fine \n",
    "details of the image.\n",
    "\n",
    "N2V2 changes the architecture used in Noise2Void in two ways: the top skip connection is removed, and the downsampling\n",
    "is done using a different operation.\n",
    "\n",
    "<p align=\"center\">\n",
    "  <img src=\"https://raw.githubusercontent.com/CAREamics/careamics-examples/main/algorithms/n2v2/unet.png\" width=\"700\"/>\n",
    "</p>\n",
    "\n",
    "*Fig 2.: UNet architecture as used by Noise2Void. CC-BY.* \n",
    "\n",
    "\n",
    "#### Skip connections\n",
    "\n",
    "In N2V2, the first skip connection is removed to constrain the amoung of high-frequency information that can be passed from the encoder to the \n",
    "decoder. Since the checkerboard artefacts are high-frequency artefacts, this change is expected to reduce their occurence.\n",
    "\n",
    "#### MaxBlurpool layers\n",
    "\n",
    "The second change is the introduction of max blur pool as downsampling layers in the encoder to avoid aliasing-related artefacts, as opposed\n",
    "to the max pool layer used in Noise2Void. As with Noise2Void, the downsampling step starts from computing the maximum value \n",
    "in the patch (i.e. the region over which the filter is applied for each pixel), before applying a blur kernel (which is a \n",
    "convolutional operation) [6]. Since the output is smoothed, sharp transitions between pixel values are avoided and the\n",
    "aliasing artefacts are reduced.\n"
   ]
  },
  {
   "cell_type": "code",
   "execution_count": 41,
   "metadata": {
    "tags": [
     "hide_code"
    ]
   },
   "outputs": [
    {
     "data": {
      "image/png": "[encoded data removed]",
      "text/plain": [
       "<Figure size 1000x1500 with 3 Axes>"
      ]
     },
     "metadata": {},
     "output_type": "display_data"
    }
   ],
   "source": [
    "rng = np.random.default_rng(42)\n",
    "max_pool_size = 2\n",
    "input_arr = rng.integers(0, 150, size=(16, 16))\n",
    "\n",
    "# draw N random 2D coordinates\n",
    "N = 10\n",
    "coords = rng.integers(0, 16, size=(N, 2))\n",
    "\n",
    "# set those values to 255\n",
    "input_arr[coords[:, 0], coords[:, 1]] = 255\n",
    "\n",
    "# convert to tensor\n",
    "input_tsr = Tensor(input_arr).unsqueeze(0).unsqueeze(0)\n",
    "\n",
    "# apply max pool\n",
    "max_pool = MaxPool2d(kernel_size=max_pool_size)\n",
    "output_tsr_maxpool = max_pool(input_tsr)\n",
    "output_arr_maxpool = output_tsr_maxpool.squeeze().numpy()\n",
    "\n",
    "# apply max blur pool\n",
    "max_blur_pool = MaxBlurPool(dim=2, kernel_size=3, max_pool_size=max_pool_size)\n",
    "output_tsr_maxblurpool = max_blur_pool(input_tsr)\n",
    "output_arr_maxblurpool = output_tsr_maxblurpool.squeeze().numpy()\n",
    "\n",
    "# plot the results\n",
    "fig, ax = plt.subplots(1, 3, figsize=(10, 15))\n",
    "ax[0].imshow(input_arr)\n",
    "ax[0].set_title(f\"Input {input_arr.shape}\")\n",
    "ax[0].set_xticks([])\n",
    "ax[0].set_yticks([])\n",
    "\n",
    "ax[1].imshow(output_arr_maxpool)\n",
    "ax[1].set_title(f\"Max pool {output_arr_maxpool.shape}\")\n",
    "ax[1].set_xticks([])\n",
    "ax[1].set_yticks([])\n",
    "\n",
    "ax[2].imshow(output_arr_maxblurpool)\n",
    "ax[2].set_title(f\"Max blur pool {output_arr_maxblurpool.shape}\")\n",
    "ax[2].set_xticks([])\n",
    "ax[2].set_yticks([])\n",
    "fig.tight_layout()"
   ]
  },
  {
   "cell_type": "markdown",
   "metadata": {},
   "source": [
    "\n",
    "*Fig 3.: Max pool vs max blur pool downsampling. An input (left) is passed through a \n",
    "max pool layer (center) and through a max blur pool layer (right) for comparison. \n",
    "The blur pool layer introduces blurring, avoiding aliasing-related artefacts. CC-BY.* \n",
    "\n",
    "### Changes to the masking scheme\n",
    "\n",
    "In Noise2Void, the masking scheme consists in replacing central pixels by a randomly\n",
    "chosen neighboring pixel (see [the example](../../n2v/Noise2Void/#training-noise2void)). \n",
    "N2V2 changes the strategy for pixel selection by replacing the central pixel with the\n",
    "median of the neighborhood. This leads to a masking with a lower difference between masked\n",
    "pixels and their surrounding, preventing aliasing artefacts arising from sharp transitions\n",
    "between masked and unmasked pixels."
   ]
  },
  {
   "cell_type": "code",
   "execution_count": 42,
   "metadata": {
    "tags": [
     "hide_code"
    ]
   },
   "outputs": [
    {
     "data": {
      "image/png": "[encoded data removed]",
      "text/plain": [
       "<Figure size 800x1200 with 3 Axes>"
      ]
     },
     "metadata": {},
     "output_type": "display_data"
    }
   ],
   "source": [
    "######### toy example\n",
    "# array\n",
    "scale = 16\n",
    "patch = np.arange(scale**2).reshape((1, scale, scale))\n",
    "\n",
    "# manipulate n2v\n",
    "manipulate_uniform = N2VManipulate(roi_size=4, masked_pixel_percentage=2, seed=24)\n",
    "manipulate_median = N2VManipulate(\n",
    "    roi_size=4, masked_pixel_percentage=2, strategy=\"median\", seed=24\n",
    ")\n",
    "\n",
    "# apply n2v manipulation\n",
    "manipulated, _, mask = manipulate_uniform(patch)\n",
    "\n",
    "# apply n2v manipulation with median\n",
    "manipulated_median, _, mask_median = manipulate_median(patch)\n",
    "\n",
    "# show manipulated patch next to mask\n",
    "fig, ax = plt.subplots(1, 3, figsize=(8, 12))\n",
    "ax[0].imshow(patch.squeeze())\n",
    "ax[0].set_title(\"Input patch\")\n",
    "ax[0].set_ylabel(\"Toy Example\")\n",
    "ax[0].set_xticks([])\n",
    "ax[0].set_yticks([])\n",
    "\n",
    "ax[1].imshow(manipulated.squeeze())\n",
    "ax[1].set_title(\"Manipulated patch\\n(Noise2Void)\")\n",
    "ax[1].set_xticks([])\n",
    "ax[1].set_yticks([])\n",
    "\n",
    "ax[2].imshow(manipulated_median.squeeze())\n",
    "ax[2].set_title(\"Manipulated patch\\n(N2V2)\")\n",
    "ax[2].set_xticks([])\n",
    "ax[2].set_yticks([])\n",
    "fig.tight_layout()"
   ]
  },
  {
   "cell_type": "markdown",
   "metadata": {},
   "source": [
    "\n",
    "*Fig 4.: Noise2Void vs N2V2 manipulation. In both algorithms, randomly selected pixels\n",
    "in the input patch (left) are selected and their value replaced. Noise2Void (center) \n",
    "replaces the values by the value of one of the neighboring pixel, while N2V2 (right) \n",
    "uses the median of the neighborhood. CC-BY.* \n",
    "\n",
    "\n",
    "### Comparison\n",
    "\n",
    "These changes allow suppressing the checkerboard artefacts, as illustrated in the figure below. \n",
    "N2V2 does not take longer than Noise2Void to train, and you can easily compare the results\n",
    "of both methods.\n",
    "\n",
    "To train Noise2Void and N2V2 on the same dataset, refer to their respective examples: \n",
    "[SEM Noise2Void](../../../applications/Noise2Void/2D_SEM/) and [SEM N2V2](../../../applications/Noise2Void/2D_SEM_N2V2/).\n",
    "\n",
    "\n",
    "<p align=\"center\">\n",
    "  <img src=\"https://raw.githubusercontent.com/CAREamics/careamics-examples/main/algorithms/n2v2/n2v_vs_n2v2_checkerboard.png\" width=\"700\"/>\n",
    "</p>\n",
    "\n",
    "*Fig 5.: Noise2Void vs N2V2 in the presence of checkerboard artefacts. The figure shows \n",
    "a noisy image crop (left), the Noise2Void prediction of the region delimited by a red \n",
    "square (center) and the corresponding N2V2 prediction (right). The cherckerboard artefacts\n",
    "are clearly visible in the Noise2Void prediction (center), while they are much less \n",
    "severe with N2V2 (left). CC-BY.* \n",
    "\n",
    "## Limitations\n",
    "\n",
    "Beyond the checkerboard artefacts, N2V2 suffers from the same limitations as Noise2Void \n",
    "regarding [pixel-wise independent noise](../../n2v/Noise2Void/#limitations)."
   ]
  },
  {
   "cell_type": "markdown",
   "metadata": {},
   "source": [
    "## References\n",
    "\n",
    "[1] Eva Höck, Tim-Oliver Buchholz, Anselm Brachmann, Florian Jug, and Alexander Freytag. \"N2V2 - Fixing Noise2Void Checkerboard Artifacts with Modified Sampling Strategies and a Tweaked Network Architecture.\" ECCV, 2022. [link](https://link.springer.com/chapter/10.1007/978-3-031-25069-9_33)\n",
    "\n",
    "[2] Alexander Krull, Tim-Oliver Buchholz, and Florian Jug. \"Noise2Void - learning denoising\n",
    "from single noisy images.\" CVPR, 2019. [link](https://openaccess.thecvf.com/content_CVPR_2019/html/Krull_Noise2Void_-_Learning_Denoising_From_Single_Noisy_Images_CVPR_2019_paper.html)\n",
    "\n",
    "[3] Joshua Batson, and Loic Royer. \"Noise2Self: Blind denoising by self-supervision.\" \n",
    "MLR, 2019. [link](http://proceedings.mlr.press/v97/batson19a.html)\n",
    "\n",
    "[4] Olaf Ronneberger, Philipp Fischer, and Thomas Brox. \"U-net: Convolutional networks for \n",
    "biomedical image segmentation.\" MICCAI, 2015. [link](https://link.springer.com/chapter/10.1007/978-3-319-24574-4_28)\n",
    "\n",
    "[5] Richard Zhang. \"Making convolutional networks shift-invariant again.\" ICML, 2019. [link](http://proceedings.mlr.press/v97/zhang19a.html)"
   ]
  }
 ],
 "metadata": {
  "kernelspec": {
   "display_name": "careamics",
   "language": "python",
   "name": "python3"
  },
  "language_info": {
   "codemirror_mode": {
    "name": "ipython",
    "version": 3
   },
   "file_extension": ".py",
   "mimetype": "text/x-python",
   "name": "python",
   "nbconvert_exporter": "python",
   "pygments_lexer": "ipython3",
   "version": "3.10.14"
  }
 },
 "nbformat": 4,
 "nbformat_minor": 2
}
