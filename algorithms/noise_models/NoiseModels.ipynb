{
 "cells": [
  {
   "cell_type": "markdown",
   "metadata": {},
   "source": [
    "# Noise Models\n",
    "\n",
    "Noise models are an important aspect of denoising images using P(P)N2V, HDN or microSplit.\n",
    "\n",
    "<?-- Comments: you can add images to the markdown --->\n",
    "<p align=\"center\">\n",
    "  <img src=\"https://raw.githubusercontent.com/CAREamics/careamics-examples/1221cb91e54fc20f34fcd5ab8117a32434020bb0/algorithms/n2v/sem_n2v_residuals_comparison.png\" width=\"700\"/>\n",
    "</p>\n"
   ]
  },
  {
   "cell_type": "code",
   "execution_count": null,
   "metadata": {
    "tags": [
     "hide_code"
    ]
   },
   "outputs": [],
   "source": [
    "# The code should be hidden, but can be used to generate images\n",
    "# You need to tag the jupyter cell with `hide_code` to hide the code\n",
    "\n",
    "\n",
    "# here generate synthetic examples\n",
    "\n",
    "# plot the synthetic examples\n",
    "# the plots will show up on the website"
   ]
  }
 ],
 "metadata": {
  "language_info": {
   "name": "python"
  }
 },
 "nbformat": 4,
 "nbformat_minor": 2
}
